{
 "cells": [
  {
   "cell_type": "markdown",
   "id": "2f0e167c-af4f-4809-920c-ba6dfc90690f",
   "metadata": {},
   "source": [
    "## Toronto Data Analysis"
   ]
  },
  {
   "cell_type": "code",
   "execution_count": 41,
   "id": "abf22d3d-0049-477d-9e65-515aaebecbe2",
   "metadata": {},
   "outputs": [],
   "source": [
    "# imports\n",
    "import panel as pn\n",
    "pn.extension('plotly')\n",
    "import plotly.express as px\n",
    "import pandas as pd\n",
    "import hvplot.pandas\n",
    "import matplotlib.pyplot as plt\n",
    "import numpy as np\n",
    "import os\n",
    "from pathlib import Path\n",
    "from dotenv import load_dotenv"
   ]
  },
  {
   "cell_type": "code",
   "execution_count": 42,
   "id": "e49615cf-5a54-47ce-bdae-ca34d7643806",
   "metadata": {},
   "outputs": [],
   "source": [
    "# Read the Mapbox API key\n",
    "\n",
    "load_dotenv()\n",
    "map_box_api = os.getenv(\"mapbox\") "
   ]
  },
  {
   "cell_type": "code",
   "execution_count": 43,
   "id": "4386d245-2ef9-4ca7-851b-cf20f3c22f2d",
   "metadata": {},
   "outputs": [
    {
     "data": {
      "text/html": [
       "<div>\n",
       "<style scoped>\n",
       "    .dataframe tbody tr th:only-of-type {\n",
       "        vertical-align: middle;\n",
       "    }\n",
       "\n",
       "    .dataframe tbody tr th {\n",
       "        vertical-align: top;\n",
       "    }\n",
       "\n",
       "    .dataframe thead th {\n",
       "        text-align: right;\n",
       "    }\n",
       "</style>\n",
       "<table border=\"1\" class=\"dataframe\">\n",
       "  <thead>\n",
       "    <tr style=\"text-align: right;\">\n",
       "      <th></th>\n",
       "      <th>neighbourhood</th>\n",
       "      <th>single_detached_house</th>\n",
       "      <th>apartment_five_storeys_plus</th>\n",
       "      <th>movable_dwelling</th>\n",
       "      <th>semi_detached_house</th>\n",
       "      <th>row_house</th>\n",
       "      <th>duplex</th>\n",
       "      <th>apartment_five_storeys_less</th>\n",
       "      <th>other_house</th>\n",
       "      <th>average_house_value</th>\n",
       "      <th>shelter_costs_owned</th>\n",
       "      <th>shelter_costs_rented</th>\n",
       "    </tr>\n",
       "    <tr>\n",
       "      <th>year</th>\n",
       "      <th></th>\n",
       "      <th></th>\n",
       "      <th></th>\n",
       "      <th></th>\n",
       "      <th></th>\n",
       "      <th></th>\n",
       "      <th></th>\n",
       "      <th></th>\n",
       "      <th></th>\n",
       "      <th></th>\n",
       "      <th></th>\n",
       "      <th></th>\n",
       "    </tr>\n",
       "  </thead>\n",
       "  <tbody>\n",
       "    <tr>\n",
       "      <th>2001</th>\n",
       "      <td>Agincourt North</td>\n",
       "      <td>3715</td>\n",
       "      <td>1480</td>\n",
       "      <td>0</td>\n",
       "      <td>1055</td>\n",
       "      <td>1295</td>\n",
       "      <td>195</td>\n",
       "      <td>185</td>\n",
       "      <td>5</td>\n",
       "      <td>200388</td>\n",
       "      <td>810</td>\n",
       "      <td>870</td>\n",
       "    </tr>\n",
       "    <tr>\n",
       "      <th>2001</th>\n",
       "      <td>Agincourt South-Malvern West</td>\n",
       "      <td>3250</td>\n",
       "      <td>1835</td>\n",
       "      <td>0</td>\n",
       "      <td>545</td>\n",
       "      <td>455</td>\n",
       "      <td>105</td>\n",
       "      <td>425</td>\n",
       "      <td>0</td>\n",
       "      <td>203047</td>\n",
       "      <td>806</td>\n",
       "      <td>892</td>\n",
       "    </tr>\n",
       "    <tr>\n",
       "      <th>2001</th>\n",
       "      <td>Alderwood</td>\n",
       "      <td>3175</td>\n",
       "      <td>315</td>\n",
       "      <td>0</td>\n",
       "      <td>470</td>\n",
       "      <td>50</td>\n",
       "      <td>185</td>\n",
       "      <td>370</td>\n",
       "      <td>0</td>\n",
       "      <td>259998</td>\n",
       "      <td>817</td>\n",
       "      <td>924</td>\n",
       "    </tr>\n",
       "    <tr>\n",
       "      <th>2001</th>\n",
       "      <td>Annex</td>\n",
       "      <td>1060</td>\n",
       "      <td>6090</td>\n",
       "      <td>5</td>\n",
       "      <td>1980</td>\n",
       "      <td>605</td>\n",
       "      <td>275</td>\n",
       "      <td>3710</td>\n",
       "      <td>165</td>\n",
       "      <td>453850</td>\n",
       "      <td>1027</td>\n",
       "      <td>1378</td>\n",
       "    </tr>\n",
       "    <tr>\n",
       "      <th>2001</th>\n",
       "      <td>Banbury-Don Mills</td>\n",
       "      <td>3615</td>\n",
       "      <td>4465</td>\n",
       "      <td>0</td>\n",
       "      <td>240</td>\n",
       "      <td>380</td>\n",
       "      <td>15</td>\n",
       "      <td>1360</td>\n",
       "      <td>0</td>\n",
       "      <td>371864</td>\n",
       "      <td>1007</td>\n",
       "      <td>1163</td>\n",
       "    </tr>\n",
       "  </tbody>\n",
       "</table>\n",
       "</div>"
      ],
      "text/plain": [
       "                     neighbourhood  single_detached_house  \\\n",
       "year                                                        \n",
       "2001               Agincourt North                   3715   \n",
       "2001  Agincourt South-Malvern West                   3250   \n",
       "2001                     Alderwood                   3175   \n",
       "2001                         Annex                   1060   \n",
       "2001             Banbury-Don Mills                   3615   \n",
       "\n",
       "      apartment_five_storeys_plus  movable_dwelling  semi_detached_house  \\\n",
       "year                                                                       \n",
       "2001                         1480                 0                 1055   \n",
       "2001                         1835                 0                  545   \n",
       "2001                          315                 0                  470   \n",
       "2001                         6090                 5                 1980   \n",
       "2001                         4465                 0                  240   \n",
       "\n",
       "      row_house  duplex  apartment_five_storeys_less  other_house  \\\n",
       "year                                                                \n",
       "2001       1295     195                          185            5   \n",
       "2001        455     105                          425            0   \n",
       "2001         50     185                          370            0   \n",
       "2001        605     275                         3710          165   \n",
       "2001        380      15                         1360            0   \n",
       "\n",
       "      average_house_value  shelter_costs_owned  shelter_costs_rented  \n",
       "year                                                                  \n",
       "2001               200388                  810                   870  \n",
       "2001               203047                  806                   892  \n",
       "2001               259998                  817                   924  \n",
       "2001               453850                 1027                  1378  \n",
       "2001               371864                 1007                  1163  "
      ]
     },
     "execution_count": 43,
     "metadata": {},
     "output_type": "execute_result"
    }
   ],
   "source": [
    "# Read the census data into a Pandas DataFrame\n",
    "\n",
    "file_path = Path(\"06-PyViz_Unit 6 Homework_Starter_Code_Data_toronto_neighbourhoods_census_data.csv\")\n",
    "to_data = pd.read_csv(file_path, index_col=\"year\")\n",
    "to_data.head()"
   ]
  },
  {
   "cell_type": "code",
   "execution_count": 44,
   "id": "64dd577f-8cdd-4022-9858-090806cfad71",
   "metadata": {},
   "outputs": [
    {
     "data": {
      "text/html": [
       "<div>\n",
       "<style scoped>\n",
       "    .dataframe tbody tr th:only-of-type {\n",
       "        vertical-align: middle;\n",
       "    }\n",
       "\n",
       "    .dataframe tbody tr th {\n",
       "        vertical-align: top;\n",
       "    }\n",
       "\n",
       "    .dataframe thead th {\n",
       "        text-align: right;\n",
       "    }\n",
       "</style>\n",
       "<table border=\"1\" class=\"dataframe\">\n",
       "  <thead>\n",
       "    <tr style=\"text-align: right;\">\n",
       "      <th></th>\n",
       "      <th>single_detached_house</th>\n",
       "      <th>apartment_five_storeys_plus</th>\n",
       "      <th>movable_dwelling</th>\n",
       "      <th>semi_detached_house</th>\n",
       "      <th>row_house</th>\n",
       "      <th>duplex</th>\n",
       "      <th>apartment_five_storeys_less</th>\n",
       "      <th>other_house</th>\n",
       "      <th>average_house_value</th>\n",
       "      <th>shelter_costs_owned</th>\n",
       "      <th>shelter_costs_rented</th>\n",
       "    </tr>\n",
       "    <tr>\n",
       "      <th>year</th>\n",
       "      <th></th>\n",
       "      <th></th>\n",
       "      <th></th>\n",
       "      <th></th>\n",
       "      <th></th>\n",
       "      <th></th>\n",
       "      <th></th>\n",
       "      <th></th>\n",
       "      <th></th>\n",
       "      <th></th>\n",
       "      <th></th>\n",
       "    </tr>\n",
       "  </thead>\n",
       "  <tbody>\n",
       "    <tr>\n",
       "      <th>2001</th>\n",
       "      <td>300930</td>\n",
       "      <td>355015</td>\n",
       "      <td>75</td>\n",
       "      <td>90995</td>\n",
       "      <td>52355</td>\n",
       "      <td>23785</td>\n",
       "      <td>116900</td>\n",
       "      <td>3040</td>\n",
       "      <td>40583604</td>\n",
       "      <td>118563</td>\n",
       "      <td>152031</td>\n",
       "    </tr>\n",
       "    <tr>\n",
       "      <th>2006</th>\n",
       "      <td>266860</td>\n",
       "      <td>379400</td>\n",
       "      <td>165</td>\n",
       "      <td>69430</td>\n",
       "      <td>54690</td>\n",
       "      <td>44095</td>\n",
       "      <td>162850</td>\n",
       "      <td>1335</td>\n",
       "      <td>59368353</td>\n",
       "      <td>184352</td>\n",
       "      <td>129558</td>\n",
       "    </tr>\n",
       "    <tr>\n",
       "      <th>2011</th>\n",
       "      <td>274940</td>\n",
       "      <td>429220</td>\n",
       "      <td>100</td>\n",
       "      <td>72480</td>\n",
       "      <td>60355</td>\n",
       "      <td>44750</td>\n",
       "      <td>163895</td>\n",
       "      <td>2165</td>\n",
       "      <td>74259461</td>\n",
       "      <td>202750</td>\n",
       "      <td>142771</td>\n",
       "    </tr>\n",
       "    <tr>\n",
       "      <th>2016</th>\n",
       "      <td>269680</td>\n",
       "      <td>493270</td>\n",
       "      <td>95</td>\n",
       "      <td>71200</td>\n",
       "      <td>61565</td>\n",
       "      <td>48585</td>\n",
       "      <td>165575</td>\n",
       "      <td>2845</td>\n",
       "      <td>92969566</td>\n",
       "      <td>246584</td>\n",
       "      <td>175885</td>\n",
       "    </tr>\n",
       "  </tbody>\n",
       "</table>\n",
       "</div>"
      ],
      "text/plain": [
       "      single_detached_house  apartment_five_storeys_plus  movable_dwelling  \\\n",
       "year                                                                         \n",
       "2001                 300930                       355015                75   \n",
       "2006                 266860                       379400               165   \n",
       "2011                 274940                       429220               100   \n",
       "2016                 269680                       493270                95   \n",
       "\n",
       "      semi_detached_house  row_house  duplex  apartment_five_storeys_less  \\\n",
       "year                                                                        \n",
       "2001                90995      52355   23785                       116900   \n",
       "2006                69430      54690   44095                       162850   \n",
       "2011                72480      60355   44750                       163895   \n",
       "2016                71200      61565   48585                       165575   \n",
       "\n",
       "      other_house  average_house_value  shelter_costs_owned  \\\n",
       "year                                                          \n",
       "2001         3040             40583604               118563   \n",
       "2006         1335             59368353               184352   \n",
       "2011         2165             74259461               202750   \n",
       "2016         2845             92969566               246584   \n",
       "\n",
       "      shelter_costs_rented  \n",
       "year                        \n",
       "2001                152031  \n",
       "2006                129558  \n",
       "2011                142771  \n",
       "2016                175885  "
      ]
     },
     "execution_count": 44,
     "metadata": {},
     "output_type": "execute_result"
    }
   ],
   "source": [
    "# Calculate the sum number of dwelling types units per year \n",
    "groupby_to_data = to_data.groupby(to_data.index).sum()\n",
    "groupby_to_data.head()"
   ]
  },
  {
   "cell_type": "code",
   "execution_count": 45,
   "id": "1683aae4-519d-4eda-a823-c1331d86120e",
   "metadata": {},
   "outputs": [],
   "source": [
    "groupby_to_data.to_csv(\"dwelling_type_per_year.csv\")"
   ]
  },
  {
   "cell_type": "code",
   "execution_count": null,
   "id": "9f087a41-e134-4d1e-9e1f-0475b534acb7",
   "metadata": {},
   "outputs": [],
   "source": [
    "# Helper create_bar_chart function"
   ]
  },
  {
   "cell_type": "code",
   "execution_count": 77,
   "id": "b9079619-4e76-49d3-a3bc-92599c9d6716",
   "metadata": {},
   "outputs": [
    {
     "data": {
      "text/plain": [
       "<AxesSubplot:>"
      ]
     },
     "execution_count": 77,
     "metadata": {},
     "output_type": "execute_result"
    },
    {
     "data": {
      "image/png": "[encoded data removed]",
      "text/plain": [
       "<Figure size 432x288 with 1 Axes>"
      ]
     },
     "metadata": {
      "needs_background": "light"
     },
     "output_type": "display_data"
    }
   ],
   "source": [
    "# Create a bar chart per year to show the number of dwelling types\n",
    "\n",
    "\n",
    "groupby_to_data.loc[2001].plot.bar() "
   ]
  },
  {
   "cell_type": "code",
   "execution_count": null,
   "id": "b4e7f98b-253a-4096-97c6-1b3244533ca9",
   "metadata": {},
   "outputs": [],
   "source": []
  },
  {
   "cell_type": "code",
   "execution_count": null,
   "id": "4bf2cfde-ea76-4a17-95f7-c9a626e7e2b4",
   "metadata": {},
   "outputs": [],
   "source": []
  },
  {
   "cell_type": "markdown",
   "id": "edf2c2d3-2d8b-4ed9-a694-9431e54c1d6c",
   "metadata": {},
   "source": [
    "## Average Monthly Shelter Costs in Toronto Per Year"
   ]
  },
  {
   "cell_type": "code",
   "execution_count": 52,
   "id": "a3c122ff-341c-468d-b39b-6a660c32a66e",
   "metadata": {},
   "outputs": [
    {
     "data": {
      "text/html": [
       "<div>\n",
       "<style scoped>\n",
       "    .dataframe tbody tr th:only-of-type {\n",
       "        vertical-align: middle;\n",
       "    }\n",
       "\n",
       "    .dataframe tbody tr th {\n",
       "        vertical-align: top;\n",
       "    }\n",
       "\n",
       "    .dataframe thead th {\n",
       "        text-align: right;\n",
       "    }\n",
       "</style>\n",
       "<table border=\"1\" class=\"dataframe\">\n",
       "  <thead>\n",
       "    <tr style=\"text-align: right;\">\n",
       "      <th></th>\n",
       "      <th>shelter_costs_owned</th>\n",
       "      <th>shelter_costs_rented</th>\n",
       "    </tr>\n",
       "    <tr>\n",
       "      <th>year</th>\n",
       "      <th></th>\n",
       "      <th></th>\n",
       "    </tr>\n",
       "  </thead>\n",
       "  <tbody>\n",
       "    <tr>\n",
       "      <th>2001</th>\n",
       "      <td>846.878571</td>\n",
       "      <td>1085.935714</td>\n",
       "    </tr>\n",
       "    <tr>\n",
       "      <th>2006</th>\n",
       "      <td>1316.800000</td>\n",
       "      <td>925.414286</td>\n",
       "    </tr>\n",
       "    <tr>\n",
       "      <th>2011</th>\n",
       "      <td>1448.214286</td>\n",
       "      <td>1019.792857</td>\n",
       "    </tr>\n",
       "    <tr>\n",
       "      <th>2016</th>\n",
       "      <td>1761.314286</td>\n",
       "      <td>1256.321429</td>\n",
       "    </tr>\n",
       "  </tbody>\n",
       "</table>\n",
       "</div>"
      ],
      "text/plain": [
       "      shelter_costs_owned  shelter_costs_rented\n",
       "year                                           \n",
       "2001           846.878571           1085.935714\n",
       "2006          1316.800000            925.414286\n",
       "2011          1448.214286           1019.792857\n",
       "2016          1761.314286           1256.321429"
      ]
     },
     "execution_count": 52,
     "metadata": {},
     "output_type": "execute_result"
    }
   ],
   "source": [
    "# Calculate the average monthly shelter costs for owned and rented dwellings\n",
    "avg_monthy_shelter = to_data.groupby(to_data.index).mean()[['shelter_costs_owned', 'shelter_costs_rented']]\n",
    "avg_monthy_shelter"
   ]
  },
  {
   "cell_type": "code",
   "execution_count": 82,
   "id": "2be75b1a-7b07-4df9-8057-eedae23b4ba6",
   "metadata": {},
   "outputs": [
    {
     "data": {
      "text/plain": [
       "<AxesSubplot:title={'center':'shelter costs owned'}, xlabel='year'>"
      ]
     },
     "execution_count": 82,
     "metadata": {},
     "output_type": "execute_result"
    },
    {
     "data": {
      "image/png": "[encoded data removed]",
      "text/plain": [
       "<Figure size 432x288 with 1 Axes>"
      ]
     },
     "metadata": {
      "needs_background": "light"
     },
     "output_type": "display_data"
    }
   ],
   "source": [
    "# Create two line charts, one to plot the monthly shelter costs for owned dwelleing and other for rented dwellings per year\n",
    "\n",
    "\n",
    "avg_monthy_shelter['shelter_costs_owned'].plot.line(color='red', title='shelter costs owned')"
   ]
  },
  {
   "cell_type": "code",
   "execution_count": 57,
   "id": "01ead50f-1ef5-4336-ad83-ed694cc383b6",
   "metadata": {},
   "outputs": [
    {
     "data": {
      "text/plain": [
       "<AxesSubplot:xlabel='year'>"
      ]
     },
     "execution_count": 57,
     "metadata": {},
     "output_type": "execute_result"
    },
    {
     "data": {
      "image/png": "[encoded data removed]",
      "text/plain": [
       "<Figure size 432x288 with 1 Axes>"
      ]
     },
     "metadata": {
      "needs_background": "light"
     },
     "output_type": "display_data"
    }
   ],
   "source": [
    "avg_monthy_shelter['shelter_costs_rented'].plot.line(color='green')"
   ]
  },
  {
   "cell_type": "markdown",
   "id": "b09d562f-7c22-4ac5-bfef-bfcbef4b3cfa",
   "metadata": {},
   "source": [
    "## Average House Value per Year"
   ]
  },
  {
   "cell_type": "code",
   "execution_count": 58,
   "id": "83637727-04d8-41f2-9ab3-8bf73058d804",
   "metadata": {},
   "outputs": [
    {
     "data": {
      "text/html": [
       "<div>\n",
       "<style scoped>\n",
       "    .dataframe tbody tr th:only-of-type {\n",
       "        vertical-align: middle;\n",
       "    }\n",
       "\n",
       "    .dataframe tbody tr th {\n",
       "        vertical-align: top;\n",
       "    }\n",
       "\n",
       "    .dataframe thead th {\n",
       "        text-align: right;\n",
       "    }\n",
       "</style>\n",
       "<table border=\"1\" class=\"dataframe\">\n",
       "  <thead>\n",
       "    <tr style=\"text-align: right;\">\n",
       "      <th></th>\n",
       "      <th>average_house_value</th>\n",
       "    </tr>\n",
       "    <tr>\n",
       "      <th>year</th>\n",
       "      <th></th>\n",
       "    </tr>\n",
       "  </thead>\n",
       "  <tbody>\n",
       "    <tr>\n",
       "      <th>2001</th>\n",
       "      <td>289882.885714</td>\n",
       "    </tr>\n",
       "    <tr>\n",
       "      <th>2006</th>\n",
       "      <td>424059.664286</td>\n",
       "    </tr>\n",
       "    <tr>\n",
       "      <th>2011</th>\n",
       "      <td>530424.721429</td>\n",
       "    </tr>\n",
       "    <tr>\n",
       "      <th>2016</th>\n",
       "      <td>664068.328571</td>\n",
       "    </tr>\n",
       "  </tbody>\n",
       "</table>\n",
       "</div>"
      ],
      "text/plain": [
       "      average_house_value\n",
       "year                     \n",
       "2001        289882.885714\n",
       "2006        424059.664286\n",
       "2011        530424.721429\n",
       "2016        664068.328571"
      ]
     },
     "execution_count": 58,
     "metadata": {},
     "output_type": "execute_result"
    }
   ],
   "source": [
    "# Calculate the average house value per year\n",
    "avg_house_value = to_data.groupby(to_data.index).mean()[['average_house_value']]\n",
    "avg_house_value"
   ]
  },
  {
   "cell_type": "code",
   "execution_count": 83,
   "id": "5ef0949c-81d2-4047-aa52-2ea11246e41f",
   "metadata": {},
   "outputs": [
    {
     "data": {
      "text/plain": [
       "<AxesSubplot:title={'center':'Average house value per year'}, xlabel='year'>"
      ]
     },
     "execution_count": 83,
     "metadata": {},
     "output_type": "execute_result"
    },
    {
     "data": {
      "image/png": "[encoded data removed]",
      "text/plain": [
       "<Figure size 432x288 with 1 Axes>"
      ]
     },
     "metadata": {
      "needs_background": "light"
     },
     "output_type": "display_data"
    }
   ],
   "source": [
    "# Plot the average house value per year as a line chart\n",
    "\n",
    "avg_house_value.plot(color='limegreen', title='Average house value per year')\n"
   ]
  },
  {
   "cell_type": "markdown",
   "id": "1c7d568d-7451-47a3-ae11-05ee425d1f47",
   "metadata": {},
   "source": [
    "## Number of Dwelling Types per Year"
   ]
  },
  {
   "cell_type": "code",
   "execution_count": 66,
   "id": "04a887c6-6f2c-4138-843d-a7c6c5563aa8",
   "metadata": {},
   "outputs": [
    {
     "data": {
      "text/html": [
       "<div>\n",
       "<style scoped>\n",
       "    .dataframe tbody tr th:only-of-type {\n",
       "        vertical-align: middle;\n",
       "    }\n",
       "\n",
       "    .dataframe tbody tr th {\n",
       "        vertical-align: top;\n",
       "    }\n",
       "\n",
       "    .dataframe thead th {\n",
       "        text-align: right;\n",
       "    }\n",
       "</style>\n",
       "<table border=\"1\" class=\"dataframe\">\n",
       "  <thead>\n",
       "    <tr style=\"text-align: right;\">\n",
       "      <th></th>\n",
       "      <th>year</th>\n",
       "      <th>neighbourhood</th>\n",
       "      <th>single_detached_house</th>\n",
       "      <th>apartment_five_storeys_plus</th>\n",
       "      <th>movable_dwelling</th>\n",
       "      <th>semi_detached_house</th>\n",
       "      <th>row_house</th>\n",
       "      <th>duplex</th>\n",
       "      <th>apartment_five_storeys_less</th>\n",
       "      <th>other_house</th>\n",
       "    </tr>\n",
       "  </thead>\n",
       "  <tbody>\n",
       "    <tr>\n",
       "      <th>0</th>\n",
       "      <td>2001</td>\n",
       "      <td>Agincourt North</td>\n",
       "      <td>3715</td>\n",
       "      <td>1480</td>\n",
       "      <td>0</td>\n",
       "      <td>1055</td>\n",
       "      <td>1295</td>\n",
       "      <td>195</td>\n",
       "      <td>185</td>\n",
       "      <td>5</td>\n",
       "    </tr>\n",
       "    <tr>\n",
       "      <th>1</th>\n",
       "      <td>2001</td>\n",
       "      <td>Agincourt South-Malvern West</td>\n",
       "      <td>3250</td>\n",
       "      <td>1835</td>\n",
       "      <td>0</td>\n",
       "      <td>545</td>\n",
       "      <td>455</td>\n",
       "      <td>105</td>\n",
       "      <td>425</td>\n",
       "      <td>0</td>\n",
       "    </tr>\n",
       "    <tr>\n",
       "      <th>2</th>\n",
       "      <td>2001</td>\n",
       "      <td>Alderwood</td>\n",
       "      <td>3175</td>\n",
       "      <td>315</td>\n",
       "      <td>0</td>\n",
       "      <td>470</td>\n",
       "      <td>50</td>\n",
       "      <td>185</td>\n",
       "      <td>370</td>\n",
       "      <td>0</td>\n",
       "    </tr>\n",
       "    <tr>\n",
       "      <th>3</th>\n",
       "      <td>2001</td>\n",
       "      <td>Annex</td>\n",
       "      <td>1060</td>\n",
       "      <td>6090</td>\n",
       "      <td>5</td>\n",
       "      <td>1980</td>\n",
       "      <td>605</td>\n",
       "      <td>275</td>\n",
       "      <td>3710</td>\n",
       "      <td>165</td>\n",
       "    </tr>\n",
       "    <tr>\n",
       "      <th>4</th>\n",
       "      <td>2001</td>\n",
       "      <td>Banbury-Don Mills</td>\n",
       "      <td>3615</td>\n",
       "      <td>4465</td>\n",
       "      <td>0</td>\n",
       "      <td>240</td>\n",
       "      <td>380</td>\n",
       "      <td>15</td>\n",
       "      <td>1360</td>\n",
       "      <td>0</td>\n",
       "    </tr>\n",
       "  </tbody>\n",
       "</table>\n",
       "</div>"
      ],
      "text/plain": [
       "   year                 neighbourhood  single_detached_house  \\\n",
       "0  2001               Agincourt North                   3715   \n",
       "1  2001  Agincourt South-Malvern West                   3250   \n",
       "2  2001                     Alderwood                   3175   \n",
       "3  2001                         Annex                   1060   \n",
       "4  2001             Banbury-Don Mills                   3615   \n",
       "\n",
       "   apartment_five_storeys_plus  movable_dwelling  semi_detached_house  \\\n",
       "0                         1480                 0                 1055   \n",
       "1                         1835                 0                  545   \n",
       "2                          315                 0                  470   \n",
       "3                         6090                 5                 1980   \n",
       "4                         4465                 0                  240   \n",
       "\n",
       "   row_house  duplex  apartment_five_storeys_less  other_house  \n",
       "0       1295     195                          185            5  \n",
       "1        455     105                          425            0  \n",
       "2         50     185                          370            0  \n",
       "3        605     275                         3710          165  \n",
       "4        380      15                         1360            0  "
      ]
     },
     "execution_count": 66,
     "metadata": {},
     "output_type": "execute_result"
    }
   ],
   "source": [
    "number_dwelling_type = to_data.groupby([to_data.index,'neighbourhood']).mean()[['single_detached_house', 'apartment_five_storeys_plus', 'movable_dwelling',\n",
    "                                                              'semi_detached_house', 'row_house', 'duplex', 'apartment_five_storeys_less', 'other_house']]\n",
    "number_dwelling_type.reset_index(inplace=True)\n",
    "number_dwelling_type.head()"
   ]
  },
  {
   "cell_type": "code",
   "execution_count": 67,
   "id": "3f1ddf0d-1b61-4284-8972-251cfc2efb2e",
   "metadata": {},
   "outputs": [
    {
     "data": {
      "text/plain": [
       "Index(['year', 'neighbourhood', 'single_detached_house',\n",
       "       'apartment_five_storeys_plus', 'movable_dwelling',\n",
       "       'semi_detached_house', 'row_house', 'duplex',\n",
       "       'apartment_five_storeys_less', 'other_house'],\n",
       "      dtype='object')"
      ]
     },
     "execution_count": 67,
     "metadata": {},
     "output_type": "execute_result"
    }
   ],
   "source": [
    "number_dwelling_type.columns"
   ]
  },
  {
   "cell_type": "code",
   "execution_count": 72,
   "id": "586db3b5-f90b-4e7e-966a-7b552abaa49a",
   "metadata": {},
   "outputs": [
    {
     "data": {},
     "metadata": {},
     "output_type": "display_data"
    },
    {
     "data": {
      "application/vnd.holoviews_exec.v0+json": "",
      "text/html": [
       "<div id='1857'>\n",
       "\n",
       "\n",
       "\n",
       "\n",
       "\n",
       "  <div class=\"bk-root\" id=\"47714ba4-633b-4064-8943-109724c551e7\" data-root-id=\"1857\"></div>\n",
       "</div>\n",
       "<script type=\"application/javascript\">(function(root) {\n",
       "  function embed_document(root) {\n",
       "    var docs_json = {\"67e293d6-7d0e-48c0-b29e-9e5097be2a88\":{\"defs\":[],\"roots\":{\"references\":[{\"attributes\":{},\"id\":\"1921\",\"type\":\"UnionRenderers\"},{\"attributes\":{\"margin\":[5,5,5,5],\"name\":\"HSpacer06506\",\"sizing_mode\":\"stretch_width\"},\"id\":\"1933\",\"type\":\"Spacer\"},{\"attributes\":{\"client_comm_id\":\"d1d0a1c3b34145da9533ed9c8cef8449\",\"comm_id\":\"0f4fda387f3b445abdb7d15696ada16a\",\"plot_id\":\"1857\"},\"id\":\"1969\",\"type\":\"panel.models.comm_manager.CommManager\"},{\"attributes\":{},\"id\":\"1878\",\"type\":\"SaveTool\"},{\"attributes\":{\"margin\":[5,5,5,5],\"name\":\"HSpacer06505\",\"sizing_mode\":\"stretch_width\"},\"id\":\"1858\",\"type\":\"Spacer\"},{\"attributes\":{\"end\":4086.5,\"reset_end\":4086.5,\"reset_start\":0.0,\"tags\":[[[\"value\",\"value\",null]]]},\"id\":\"1860\",\"type\":\"Range1d\"},{\"attributes\":{\"overlay\":{\"id\":\"1883\"}},\"id\":\"1881\",\"type\":\"BoxZoomTool\"},{\"attributes\":{},\"id\":\"1882\",\"type\":\"ResetTool\"},{\"attributes\":{\"fill_color\":{\"field\":\"Variable\",\"transform\":{\"id\":\"1891\"}},\"top\":{\"field\":\"value\"},\"width\":{\"value\":0.8},\"x\":{\"field\":\"xoffsets\"}},\"id\":\"1895\",\"type\":\"VBar\"},{\"attributes\":{},\"id\":\"1893\",\"type\":\"Selection\"},{\"attributes\":{\"children\":[{\"id\":\"1935\"},{\"id\":\"1936\"},{\"id\":\"1938\"}],\"margin\":[0,0,0,0],\"name\":\"Column06504\"},\"id\":\"1934\",\"type\":\"Column\"},{\"attributes\":{\"source\":{\"id\":\"1892\"}},\"id\":\"1899\",\"type\":\"CDSView\"},{\"attributes\":{\"margin\":[20,20,20,20],\"min_width\":250,\"options\":[\"Agincourt North\",\"Agincourt South-Malvern West\",\"Alderwood\",\"Annex\",\"Banbury-Don Mills\",\"Bathurst Manor\",\"Bay Street Corridor\",\"Bayview Village\",\"Bayview Woods-Steeles\",\"Bedford Park-Nortown\",\"Beechborough-Greenbrook\",\"Bendale\",\"Birchcliffe-Cliffside\",\"Black Creek\",\"Blake-Jones\",\"Briar Hill-Belgravia\",\"Bridle Path-Sunnybrook-York Mills\",\"Broadview North\",\"Brookhaven-Amesbury\",\"Cabbagetown-South St.James Town\",\"Caledonia-Fairbank\",\"Casa Loma\",\"Centennial Scarborough\",\"Church-Yonge Corridor\",\"Clairlea-Birchmount\",\"Clanton Park\",\"Cliffcrest\",\"Corso Italia-Davenport\",\"Danforth\",\"Danforth-East York\",\"Don Valley Village\",\"Dorset Park\",\"Dovercourt-Wallace Emerson-Juncti\",\"Downsview-Roding-CFB\",\"Dufferin Grove\",\"East End-Danforth\",\"Edenbridge-Humber Valley\",\"Eglinton East\",\"Elms-Old Rexdale\",\"Englemount-Lawrence\",\"Eringate-Centennial-West Deane\",\"Etobicoke West Mall\",\"Flemingdon Park\",\"Forest Hill North\",\"Forest Hill South\",\"Glenfield-Jane Heights\",\"Greenwood-Coxwell\",\"Guildwood\",\"Henry Farm\",\"High Park North\",\"High Park-Swansea\",\"Highland Creek\",\"Hillcrest Village\",\"Humber Heights-Westmount\",\"Humber Summit\",\"Humbermede\",\"Humewood-Cedarvale\",\"Ionview\",\"Islington-City Centre West\",\"Junction Area\",\"Keelesdale-Eglinton West\",\"Kennedy Park\",\"Kensington-Chinatown\",\"Kingsview Village-The Westway\",\"Kingsway South\",\"L'Amoreaux\",\"Lambton Baby Point\",\"Lansing-Westgate\",\"Lawrence Park North\",\"Lawrence Park South\",\"Leaside-Bennington\",\"Little Portugal\",\"Long Branch\",\"Malvern\",\"Maple Leaf\",\"Markland Wood\",\"Milliken\",\"Mimico\",\"Morningside\",\"Moss Park\",\"Mount Dennis\",\"Mount Olive-Silverstone-Jamestown\",\"Mount Pleasant East\",\"Mount Pleasant West\",\"New Toronto\",\"Newtonbrook East\",\"Newtonbrook West\",\"Niagara\",\"North Riverdale\",\"North St.James Town\",\"O'Connor-Parkview\",\"Oakridge\",\"Oakwood Village\",\"Old East York\",\"Palmerston-Little Italy\",\"Parkwoods-Donalda\",\"Pelmo Park-Humberlea\",\"Playter Estates-Danforth\",\"Pleasant View\",\"Princess-Rosethorn\",\"Regent Park\",\"Rexdale-Kipling\",\"Rockcliffe-Smythe\",\"Roncesvalles\",\"Rosedale-Moore Park\",\"Rouge\",\"Runnymede-Bloor West Village\",\"Rustic\",\"Scarborough Village\",\"South Parkdale\",\"South Riverdale\",\"St.Andrew-Windfields\",\"Steeles\",\"Stonegate-Queensway\",\"Tam O'Shanter-Sullivan\",\"Taylor-Massey\",\"The Beaches\",\"Thistletown-Beaumond Heights\",\"Thorncliffe Park\",\"Trinity-Bellwoods\",\"University\",\"Victoria Village\",\"Waterfront Communities-The Island\",\"West Hill\",\"West Humber-Clairville\",\"Westminster-Branson\",\"Weston\",\"Weston-Pellam Park\",\"Wexford/Maryvale\",\"Willowdale East\",\"Willowdale West\",\"Willowridge-Martingrove-Richview\",\"Woburn\",\"Woodbine Corridor\",\"Woodbine-Lumsden\",\"Wychwood\",\"Yonge-Eglinton\",\"Yonge-St.Clair\",\"York University Heights\",\"Yorkdale-Glen Park\"],\"title\":\"neighbourhood\",\"value\":\"Agincourt North\",\"width\":250},\"id\":\"1937\",\"type\":\"Select\"},{\"attributes\":{\"fill_alpha\":{\"value\":0.1},\"fill_color\":{\"field\":\"Variable\",\"transform\":{\"id\":\"1891\"}},\"line_alpha\":{\"value\":0.1},\"top\":{\"field\":\"value\"},\"width\":{\"value\":0.8},\"x\":{\"field\":\"xoffsets\"}},\"id\":\"1896\",\"type\":\"VBar\"},{\"attributes\":{\"margin\":[5,5,5,5],\"name\":\"VSpacer06503\",\"sizing_mode\":\"stretch_height\"},\"id\":\"1938\",\"type\":\"Spacer\"},{\"attributes\":{\"children\":[{\"id\":\"1858\"},{\"id\":\"1862\"},{\"id\":\"1933\"},{\"id\":\"1934\"}],\"margin\":[0,0,0,0],\"name\":\"Row06496\"},\"id\":\"1857\",\"type\":\"Row\"},{\"attributes\":{\"factors\":[[\"2001\",\"other_house\"],[\"2001\",\"apartment_five_storeys_less\"],[\"2001\",\"duplex\"],[\"2001\",\"row_house\"],[\"2001\",\"semi_detached_house\"],[\"2001\",\"movable_dwelling\"],[\"2001\",\"apartment_five_storeys_plus\"],[\"2001\",\"single_detached_house\"],[\"2006\",\"other_house\"],[\"2006\",\"apartment_five_storeys_less\"],[\"2006\",\"duplex\"],[\"2006\",\"row_house\"],[\"2006\",\"semi_detached_house\"],[\"2006\",\"movable_dwelling\"],[\"2006\",\"apartment_five_storeys_plus\"],[\"2006\",\"single_detached_house\"],[\"2011\",\"other_house\"],[\"2011\",\"apartment_five_storeys_less\"],[\"2011\",\"duplex\"],[\"2011\",\"row_house\"],[\"2011\",\"semi_detached_house\"],[\"2011\",\"movable_dwelling\"],[\"2011\",\"apartment_five_storeys_plus\"],[\"2011\",\"single_detached_house\"],[\"2016\",\"other_house\"],[\"2016\",\"apartment_five_storeys_less\"],[\"2016\",\"duplex\"],[\"2016\",\"row_house\"],[\"2016\",\"semi_detached_house\"],[\"2016\",\"movable_dwelling\"],[\"2016\",\"apartment_five_storeys_plus\"],[\"2016\",\"single_detached_house\"]],\"tags\":[[[\"year\",\"year\",null],[\"Variable\",\"Variable\",null]]]},\"id\":\"1859\",\"type\":\"FactorRange\"},{\"attributes\":{\"margin\":[5,5,5,5],\"name\":\"VSpacer06502\",\"sizing_mode\":\"stretch_height\"},\"id\":\"1935\",\"type\":\"Spacer\"},{\"attributes\":{\"below\":[{\"id\":\"1871\"}],\"center\":[{\"id\":\"1873\"},{\"id\":\"1877\"}],\"height\":500,\"left\":[{\"id\":\"1874\"}],\"margin\":[5,5,5,5],\"min_border_bottom\":10,\"min_border_left\":10,\"min_border_right\":10,\"min_border_top\":10,\"renderers\":[{\"id\":\"1898\"}],\"sizing_mode\":\"fixed\",\"title\":{\"id\":\"1863\"},\"toolbar\":{\"id\":\"1884\"},\"width\":700,\"x_range\":{\"id\":\"1859\"},\"x_scale\":{\"id\":\"1867\"},\"y_range\":{\"id\":\"1860\"},\"y_scale\":{\"id\":\"1869\"}},\"id\":\"1862\",\"subtype\":\"Figure\",\"type\":\"Plot\"},{\"attributes\":{\"fill_alpha\":{\"value\":0.2},\"fill_color\":{\"field\":\"Variable\",\"transform\":{\"id\":\"1891\"}},\"line_alpha\":{\"value\":0.2},\"top\":{\"field\":\"value\"},\"width\":{\"value\":0.8},\"x\":{\"field\":\"xoffsets\"}},\"id\":\"1897\",\"type\":\"VBar\"},{\"attributes\":{\"callback\":null,\"renderers\":[{\"id\":\"1898\"}],\"tags\":[\"hv_created\"],\"tooltips\":[[\"year\",\"@{year}\"],[\"Variable\",\"@{Variable}\"],[\"value\",\"@{value}\"]]},\"id\":\"1861\",\"type\":\"HoverTool\"},{\"attributes\":{\"bottom_units\":\"screen\",\"fill_alpha\":0.5,\"fill_color\":\"lightgrey\",\"left_units\":\"screen\",\"level\":\"overlay\",\"line_alpha\":1.0,\"line_color\":\"black\",\"line_dash\":[4,4],\"line_width\":2,\"right_units\":\"screen\",\"syncable\":false,\"top_units\":\"screen\"},\"id\":\"1883\",\"type\":\"BoxAnnotation\"},{\"attributes\":{\"bottom\":{\"value\":0},\"fill_alpha\":{\"value\":1.0},\"fill_color\":{\"field\":\"Variable\",\"transform\":{\"id\":\"1891\"}},\"hatch_alpha\":{\"value\":1.0},\"hatch_color\":{\"value\":\"black\"},\"hatch_scale\":{\"value\":12.0},\"hatch_weight\":{\"value\":1.0},\"line_alpha\":{\"value\":1.0},\"line_cap\":{\"value\":\"butt\"},\"line_color\":{\"value\":\"black\"},\"line_dash\":{\"value\":[]},\"line_dash_offset\":{\"value\":0},\"line_join\":{\"value\":\"bevel\"},\"line_width\":{\"value\":1},\"top\":{\"field\":\"value\"},\"width\":{\"value\":0.8},\"x\":{\"field\":\"xoffsets\"}},\"id\":\"1900\",\"type\":\"VBar\"},{\"attributes\":{},\"id\":\"1867\",\"type\":\"CategoricalScale\"},{\"attributes\":{},\"id\":\"1902\",\"type\":\"CategoricalTickFormatter\"},{\"attributes\":{},\"id\":\"1901\",\"type\":\"AllLabels\"},{\"attributes\":{},\"id\":\"1872\",\"type\":\"CategoricalTicker\"},{\"attributes\":{},\"id\":\"1906\",\"type\":\"AllLabels\"},{\"attributes\":{\"axis\":{\"id\":\"1871\"},\"grid_line_color\":null,\"ticker\":null},\"id\":\"1873\",\"type\":\"Grid\"},{\"attributes\":{\"children\":[{\"id\":\"1937\"}],\"css_classes\":[\"panel-widget-box\"],\"margin\":[5,5,5,5],\"name\":\"WidgetBox06497\"},\"id\":\"1936\",\"type\":\"Column\"},{\"attributes\":{\"data\":{\"Variable\":[\"single_detached_house\",\"single_detached_house\",\"single_detached_house\",\"single_detached_house\",\"apartment_five_storeys_plus\",\"apartment_five_storeys_plus\",\"apartment_five_storeys_plus\",\"apartment_five_storeys_plus\",\"movable_dwelling\",\"movable_dwelling\",\"movable_dwelling\",\"movable_dwelling\",\"semi_detached_house\",\"semi_detached_house\",\"semi_detached_house\",\"semi_detached_house\",\"row_house\",\"row_house\",\"row_house\",\"row_house\",\"duplex\",\"duplex\",\"duplex\",\"duplex\",\"apartment_five_storeys_less\",\"apartment_five_storeys_less\",\"apartment_five_storeys_less\",\"apartment_five_storeys_less\",\"other_house\",\"other_house\",\"other_house\",\"other_house\"],\"value\":[3715,3295,3385,3345,1480,2060,2130,2120,0,0,5,5,1055,775,820,805,1295,1425,1465,1440,195,600,610,645,185,565,705,735,5,0,20,15],\"xoffsets\":[[\"2001\",\"single_detached_house\"],[\"2006\",\"single_detached_house\"],[\"2011\",\"single_detached_house\"],[\"2016\",\"single_detached_house\"],[\"2001\",\"apartment_five_storeys_plus\"],[\"2006\",\"apartment_five_storeys_plus\"],[\"2011\",\"apartment_five_storeys_plus\"],[\"2016\",\"apartment_five_storeys_plus\"],[\"2001\",\"movable_dwelling\"],[\"2006\",\"movable_dwelling\"],[\"2011\",\"movable_dwelling\"],[\"2016\",\"movable_dwelling\"],[\"2001\",\"semi_detached_house\"],[\"2006\",\"semi_detached_house\"],[\"2011\",\"semi_detached_house\"],[\"2016\",\"semi_detached_house\"],[\"2001\",\"row_house\"],[\"2006\",\"row_house\"],[\"2011\",\"row_house\"],[\"2016\",\"row_house\"],[\"2001\",\"duplex\"],[\"2006\",\"duplex\"],[\"2011\",\"duplex\"],[\"2016\",\"duplex\"],[\"2001\",\"apartment_five_storeys_less\"],[\"2006\",\"apartment_five_storeys_less\"],[\"2011\",\"apartment_five_storeys_less\"],[\"2016\",\"apartment_five_storeys_less\"],[\"2001\",\"other_house\"],[\"2006\",\"other_house\"],[\"2011\",\"other_house\"],[\"2016\",\"other_house\"]],\"year\":[\"2001\",\"2006\",\"2011\",\"2016\",\"2001\",\"2006\",\"2011\",\"2016\",\"2001\",\"2006\",\"2011\",\"2016\",\"2001\",\"2006\",\"2011\",\"2016\",\"2001\",\"2006\",\"2011\",\"2016\",\"2001\",\"2006\",\"2011\",\"2016\",\"2001\",\"2006\",\"2011\",\"2016\",\"2001\",\"2006\",\"2011\",\"2016\"]},\"selected\":{\"id\":\"1893\"},\"selection_policy\":{\"id\":\"1921\"}},\"id\":\"1892\",\"type\":\"ColumnDataSource\"},{\"attributes\":{\"data_source\":{\"id\":\"1892\"},\"glyph\":{\"id\":\"1895\"},\"hover_glyph\":null,\"muted_glyph\":{\"id\":\"1897\"},\"nonselection_glyph\":{\"id\":\"1896\"},\"selection_glyph\":{\"id\":\"1900\"},\"view\":{\"id\":\"1899\"}},\"id\":\"1898\",\"type\":\"GlyphRenderer\"},{\"attributes\":{},\"id\":\"1869\",\"type\":\"LinearScale\"},{\"attributes\":{\"factors\":[\"single_detached_house\",\"apartment_five_storeys_plus\",\"movable_dwelling\",\"semi_detached_house\",\"row_house\",\"duplex\",\"apartment_five_storeys_less\",\"other_house\"],\"palette\":[\"#30a2da\",\"#fc4f30\",\"#e5ae38\",\"#6d904f\",\"#8b8b8b\",\"#17becf\",\"#9467bd\",\"#d62728\"]},\"id\":\"1891\",\"type\":\"CategoricalColorMapper\"},{\"attributes\":{\"axis\":{\"id\":\"1874\"},\"dimension\":1,\"grid_line_color\":null,\"ticker\":null},\"id\":\"1877\",\"type\":\"Grid\"},{\"attributes\":{},\"id\":\"1879\",\"type\":\"PanTool\"},{\"attributes\":{},\"id\":\"1904\",\"type\":\"BasicTickFormatter\"},{\"attributes\":{\"axis_label\":\"year, Variable\",\"formatter\":{\"id\":\"1902\"},\"major_label_orientation\":1.5707963267948966,\"major_label_policy\":{\"id\":\"1901\"},\"ticker\":{\"id\":\"1872\"}},\"id\":\"1871\",\"type\":\"CategoricalAxis\"},{\"attributes\":{\"active_multi\":null,\"tools\":[{\"id\":\"1861\"},{\"id\":\"1878\"},{\"id\":\"1879\"},{\"id\":\"1880\"},{\"id\":\"1881\"},{\"id\":\"1882\"}]},\"id\":\"1884\",\"type\":\"Toolbar\"},{\"attributes\":{\"axis_label\":\"\",\"formatter\":{\"id\":\"1904\"},\"major_label_policy\":{\"id\":\"1906\"},\"ticker\":{\"id\":\"1875\"}},\"id\":\"1874\",\"type\":\"LinearAxis\"},{\"attributes\":{},\"id\":\"1875\",\"type\":\"BasicTicker\"},{\"attributes\":{\"text\":\"neighbourhood: Agincourt North\",\"text_color\":\"black\",\"text_font_size\":\"12pt\"},\"id\":\"1863\",\"type\":\"Title\"},{\"attributes\":{},\"id\":\"1880\",\"type\":\"WheelZoomTool\"}],\"root_ids\":[\"1857\",\"1969\"]},\"title\":\"Bokeh Application\",\"version\":\"2.3.2\"}};\n",
       "    var render_items = [{\"docid\":\"67e293d6-7d0e-48c0-b29e-9e5097be2a88\",\"root_ids\":[\"1857\"],\"roots\":{\"1857\":\"47714ba4-633b-4064-8943-109724c551e7\"}}];\n",
       "    root.Bokeh.embed.embed_items_notebook(docs_json, render_items);\n",
       "  }\n",
       "  if (root.Bokeh !== undefined && root.Bokeh.Panel !== undefined && root['Plotly'] !== undefined ) {\n",
       "    embed_document(root);\n",
       "  } else {\n",
       "    var attempts = 0;\n",
       "    var timer = setInterval(function(root) {\n",
       "      if (root.Bokeh !== undefined && root.Bokeh.Panel !== undefined && root['Plotly'] !== undefined) {\n",
       "        clearInterval(timer);\n",
       "        embed_document(root);\n",
       "      } else if (document.readyState == \"complete\") {\n",
       "        attempts++;\n",
       "        if (attempts > 100) {\n",
       "          clearInterval(timer);\n",
       "          console.log(\"Bokeh: ERROR: Unable to run BokehJS code because BokehJS library is missing\");\n",
       "        }\n",
       "      }\n",
       "    }, 10, root)\n",
       "  }\n",
       "})(window);</script>"
      ],
      "text/plain": [
       ":DynamicMap   [neighbourhood]\n",
       "   :Bars   [year,Variable]   (value)"
      ]
     },
     "execution_count": 72,
     "metadata": {
      "application/vnd.holoviews_exec.v0+json": {
       "id": "1857"
      }
     },
     "output_type": "execute_result"
    }
   ],
   "source": [
    "number_dwelling_type.hvplot.bar(groupby='neighbourhood',x='year',rot=90, height=500)"
   ]
  },
  {
   "cell_type": "markdown",
   "id": "5f845912-f812-4340-aaf8-5a3f959e08e6",
   "metadata": {},
   "source": [
    "## The Top 10 Most Expensive Neighbourhoods"
   ]
  },
  {
   "cell_type": "code",
   "execution_count": 154,
   "id": "495a35bc-b623-4b35-81cb-6ccdf1bb4bc5",
   "metadata": {},
   "outputs": [
    {
     "data": {
      "text/html": [
       "<div>\n",
       "<style scoped>\n",
       "    .dataframe tbody tr th:only-of-type {\n",
       "        vertical-align: middle;\n",
       "    }\n",
       "\n",
       "    .dataframe tbody tr th {\n",
       "        vertical-align: top;\n",
       "    }\n",
       "\n",
       "    .dataframe thead th {\n",
       "        text-align: right;\n",
       "    }\n",
       "</style>\n",
       "<table border=\"1\" class=\"dataframe\">\n",
       "  <thead>\n",
       "    <tr style=\"text-align: right;\">\n",
       "      <th></th>\n",
       "      <th>neighbourhood</th>\n",
       "      <th>single_detached_house</th>\n",
       "      <th>apartment_five_storeys_plus</th>\n",
       "      <th>movable_dwelling</th>\n",
       "      <th>semi_detached_house</th>\n",
       "      <th>row_house</th>\n",
       "      <th>duplex</th>\n",
       "      <th>apartment_five_storeys_less</th>\n",
       "      <th>other_house</th>\n",
       "      <th>average_house_value</th>\n",
       "      <th>shelter_costs_owned</th>\n",
       "      <th>shelter_costs_rented</th>\n",
       "    </tr>\n",
       "  </thead>\n",
       "  <tbody>\n",
       "    <tr>\n",
       "      <th>0</th>\n",
       "      <td>Bridle Path-Sunnybrook-York Mills</td>\n",
       "      <td>2275</td>\n",
       "      <td>590</td>\n",
       "      <td>0</td>\n",
       "      <td>40</td>\n",
       "      <td>230</td>\n",
       "      <td>30</td>\n",
       "      <td>80</td>\n",
       "      <td>0</td>\n",
       "      <td>2124653</td>\n",
       "      <td>2903</td>\n",
       "      <td>2942</td>\n",
       "    </tr>\n",
       "    <tr>\n",
       "      <th>1</th>\n",
       "      <td>Bridle Path-Sunnybrook-York Mills</td>\n",
       "      <td>2285</td>\n",
       "      <td>480</td>\n",
       "      <td>0</td>\n",
       "      <td>45</td>\n",
       "      <td>100</td>\n",
       "      <td>30</td>\n",
       "      <td>50</td>\n",
       "      <td>0</td>\n",
       "      <td>1697067</td>\n",
       "      <td>2387</td>\n",
       "      <td>2388</td>\n",
       "    </tr>\n",
       "    <tr>\n",
       "      <th>2</th>\n",
       "      <td>Forest Hill South</td>\n",
       "      <td>1685</td>\n",
       "      <td>2025</td>\n",
       "      <td>0</td>\n",
       "      <td>65</td>\n",
       "      <td>40</td>\n",
       "      <td>70</td>\n",
       "      <td>1050</td>\n",
       "      <td>0</td>\n",
       "      <td>1664653</td>\n",
       "      <td>2383</td>\n",
       "      <td>1486</td>\n",
       "    </tr>\n",
       "    <tr>\n",
       "      <th>3</th>\n",
       "      <td>Lawrence Park South</td>\n",
       "      <td>3420</td>\n",
       "      <td>925</td>\n",
       "      <td>0</td>\n",
       "      <td>110</td>\n",
       "      <td>35</td>\n",
       "      <td>230</td>\n",
       "      <td>1015</td>\n",
       "      <td>5</td>\n",
       "      <td>1522732</td>\n",
       "      <td>2644</td>\n",
       "      <td>1515</td>\n",
       "    </tr>\n",
       "    <tr>\n",
       "      <th>4</th>\n",
       "      <td>Rosedale-Moore Park</td>\n",
       "      <td>2450</td>\n",
       "      <td>4990</td>\n",
       "      <td>0</td>\n",
       "      <td>485</td>\n",
       "      <td>260</td>\n",
       "      <td>345</td>\n",
       "      <td>1505</td>\n",
       "      <td>5</td>\n",
       "      <td>1522193</td>\n",
       "      <td>2498</td>\n",
       "      <td>1809</td>\n",
       "    </tr>\n",
       "  </tbody>\n",
       "</table>\n",
       "</div>"
      ],
      "text/plain": [
       "                       neighbourhood  single_detached_house  \\\n",
       "0  Bridle Path-Sunnybrook-York Mills                   2275   \n",
       "1  Bridle Path-Sunnybrook-York Mills                   2285   \n",
       "2                  Forest Hill South                   1685   \n",
       "3                Lawrence Park South                   3420   \n",
       "4                Rosedale-Moore Park                   2450   \n",
       "\n",
       "   apartment_five_storeys_plus  movable_dwelling  semi_detached_house  \\\n",
       "0                          590                 0                   40   \n",
       "1                          480                 0                   45   \n",
       "2                         2025                 0                   65   \n",
       "3                          925                 0                  110   \n",
       "4                         4990                 0                  485   \n",
       "\n",
       "   row_house  duplex  apartment_five_storeys_less  other_house  \\\n",
       "0        230      30                           80            0   \n",
       "1        100      30                           50            0   \n",
       "2         40      70                         1050            0   \n",
       "3         35     230                         1015            5   \n",
       "4        260     345                         1505            5   \n",
       "\n",
       "   average_house_value  shelter_costs_owned  shelter_costs_rented  \n",
       "0              2124653                 2903                  2942  \n",
       "1              1697067                 2387                  2388  \n",
       "2              1664653                 2383                  1486  \n",
       "3              1522732                 2644                  1515  \n",
       "4              1522193                 2498                  1809  "
      ]
     },
     "execution_count": 154,
     "metadata": {},
     "output_type": "execute_result"
    }
   ],
   "source": [
    "top_ten_most_expensive = to_data.sort_values('average_house_value',ascending = False).groupby('neighbourhood').head()\n",
    "top_ten_most_expensive.reset_index(drop=True, inplace=True)\n",
    "top_ten_most_expensive.head()"
   ]
  },
  {
   "cell_type": "code",
   "execution_count": 152,
   "id": "b4023fd9-918d-4675-b073-840ff9380ca2",
   "metadata": {},
   "outputs": [
    {
     "data": {},
     "metadata": {},
     "output_type": "display_data"
    },
    {
     "data": {
      "application/vnd.holoviews_exec.v0+json": "",
      "text/html": [
       "<div id='3379'>\n",
       "\n",
       "\n",
       "\n",
       "\n",
       "\n",
       "  <div class=\"bk-root\" id=\"cfbf3658-0f6b-4737-b12e-64e4a52d76d8\" data-root-id=\"3379\"></div>\n",
       "</div>\n",
       "<script type=\"application/javascript\">(function(root) {\n",
       "  function embed_document(root) {\n",
       "    var docs_json = {\"6815de0f-88b7-437d-acb1-7cab69cb1414\":{\"defs\":[],\"roots\":{\"references\":[{\"attributes\":{},\"id\":\"3436\",\"type\":\"UnionRenderers\"},{\"attributes\":{\"text\":\"Top 10 most expensive neighbourhood in Toronto\",\"text_color\":\"black\",\"text_font_size\":\"12pt\"},\"id\":\"3385\",\"type\":\"Title\"},{\"attributes\":{\"axis_label\":\"average_house_value\",\"formatter\":{\"id\":\"3425\"},\"major_label_policy\":{\"id\":\"3427\"},\"ticker\":{\"id\":\"3397\"}},\"id\":\"3396\",\"type\":\"LinearAxis\"},{\"attributes\":{\"margin\":[5,5,5,5],\"name\":\"HSpacer10175\",\"sizing_mode\":\"stretch_width\"},\"id\":\"3380\",\"type\":\"Spacer\"},{\"attributes\":{},\"id\":\"3389\",\"type\":\"CategoricalScale\"},{\"attributes\":{\"data\":{\"average_house_value\":[293140,459051,366667,200388,297031,465144,371534,203047,380342,595608,475742,259998,663921,1039687,830450,453850,851872,680433,371864,543987,445807,557627,698124,304749,376548,470996,589666,257404,750572,479299,599520,327644,502546,786976,628597,343535,826963,1295007,1034387,565304,329685,516279,412378,225369,267642,419121,334773,182957,388690,608681,486184,265705,363055,231839,289990,158483,454571,711848,568589,310740,324882,508759,406371,222086,1356757,927466,2124653,1697067,394075,617113,492919,269386,213227,311922,488463,390160,439171,687732,549326,300213,503455,321496,402135,219771,871981,1365503,1090696,596077,364291,249025,455664,570471,565258,360962,451500,246750,315133,493491,394176,215421,767695,613197,490234,335119,371009,580993,464068,253618,584484,373239,466857,255142,415024,649919,519123,283706,374793,586918,468801,256205,353756,553974,241824,442487,232869,159187,364667,291278,386366,605040,483276,264116,339006,530877,424038,231741,406710,636899,508723,278023,424900,665384,531476,290457,707638,1108146,885132,483734,374364,239060,299023,163419,238505,373493,298328,163039,505677,791880,632514,345676,353553,553656,442233,241685,275009,430658,343988,187993,289227,231020,184694,126255,756983,946854,1185419,517466,1664653,1329642,1063011,726664,291172,455970,364206,199043,344019,538727,430308,235168,514116,328303,410650,224425,328823,514929,224780,411300,741161,473289,592002,323536,518157,811423,648124,354207,381156,596883,476760,260555,351101,549816,439166,240009,399210,625154,499342,272896,213919,490049,391427,312935,194295,445094,284227,355519,619577,970245,774983,423537,255698,400418,319834,174793,401463,502160,628682,274436,603050,385094,481686,263247,449257,286886,358844,196112,255296,174518,399789,319331,613094,391509,489709,267631,300725,376154,470928,205572,749476,1173663,937464,512334,578001,905137,722978,395115,299190,468524,374234,204523,853511,681742,545034,372579,1056967,674957,844253,461393,972384,1522732,1216283,664712,716801,1122495,896593,489998,600558,480129,751872,328211,342930,537021,428946,234424,228318,357541,285586,156076,402835,630831,503876,275374,394610,617950,493588,269751,306629,383540,480175,209609,547683,437462,349739,239078,253323,173169,396699,316863,569905,455212,363929,248778,365097,233143,291621,159374,225031,352394,281475,153829,602054,942804,753065,411558,416125,651643,520500,284459,362468,567617,453384,247779,778847,497355,622104,339987,641047,409358,512036,279833,514978,328854,411339,224801,624890,978565,781629,427169,365706,572689,457435,249993,415214,265146,331652,181251,587723,469444,375307,256556,392146,614092,490506,268067,394111,617169,492964,269410,553011,866003,691720,378033,404100,632812,505459,276239,360352,450737,564303,246333,903121,721368,576713,394235,331860,519686,415099,226856,680604,1065811,851317,465254,348928,546413,436448,238524,502460,320860,401340,219337,307227,481110,384287,210017,452349,708369,565810,309221,972039,1522193,1215852,664476,228625,334448,523738,418336,490697,768420,613776,335435,383158,600017,479264,261923,293162,366694,459085,200402,397724,622827,497483,271880,404427,633325,505868,276462,888017,1390616,607040,1110755,334206,228460,523359,418033,489230,766124,611942,334433,314574,492616,393477,215039,212794,333230,266168,145464,592220,927404,740764,404836,334072,523150,417866,228368,226882,283790,355293,155094,475039,743901,594191,324732,549567,860610,687412,375678,312980,391483,490119,213950,334960,524540,418977,228975,252998,396189,316456,172947,477762,305088,381612,208555,310480,212241,388356,486204,428703,273761,342427,187140,489659,312685,391115,213749,309590,484811,387243,211633,652845,416893,521460,284984,648794,414306,518224,283215,412655,646210,516160,282087,265315,415478,331863,181367,395861,495153,619910,270607,328788,514874,411256,224756,787760,503046,629223,343877,1127052,719711,900233,491987,1131888,904096,722799,494098,425769,271887,185859,340083,599698,479009,382954,261784],\"neighbourhood\":[\"Agincourt North\",\"Agincourt North\",\"Agincourt North\",\"Agincourt North\",\"Agincourt South-Malvern West\",\"Agincourt South-Malvern West\",\"Agincourt South-Malvern West\",\"Agincourt South-Malvern West\",\"Alderwood\",\"Alderwood\",\"Alderwood\",\"Alderwood\",\"Annex\",\"Annex\",\"Annex\",\"Annex\",\"Banbury-Don Mills\",\"Banbury-Don Mills\",\"Banbury-Don Mills\",\"Banbury-Don Mills\",\"Bathurst Manor\",\"Bathurst Manor\",\"Bathurst Manor\",\"Bathurst Manor\",\"Bay Street Corridor\",\"Bay Street Corridor\",\"Bay Street Corridor\",\"Bay Street Corridor\",\"Bayview Village\",\"Bayview Village\",\"Bayview Village\",\"Bayview Village\",\"Bayview Woods-Steeles\",\"Bayview Woods-Steeles\",\"Bayview Woods-Steeles\",\"Bayview Woods-Steeles\",\"Bedford Park-Nortown\",\"Bedford Park-Nortown\",\"Bedford Park-Nortown\",\"Bedford Park-Nortown\",\"Beechborough-Greenbrook\",\"Beechborough-Greenbrook\",\"Beechborough-Greenbrook\",\"Beechborough-Greenbrook\",\"Bendale\",\"Bendale\",\"Bendale\",\"Bendale\",\"Birchcliffe-Cliffside\",\"Birchcliffe-Cliffside\",\"Birchcliffe-Cliffside\",\"Birchcliffe-Cliffside\",\"Black Creek\",\"Black Creek\",\"Black Creek\",\"Black Creek\",\"Blake-Jones\",\"Blake-Jones\",\"Blake-Jones\",\"Blake-Jones\",\"Briar Hill-Belgravia\",\"Briar Hill-Belgravia\",\"Briar Hill-Belgravia\",\"Briar Hill-Belgravia\",\"Bridle Path-Sunnybrook-York Mills\",\"Bridle Path-Sunnybrook-York Mills\",\"Bridle Path-Sunnybrook-York Mills\",\"Bridle Path-Sunnybrook-York Mills\",\"Broadview North\",\"Broadview North\",\"Broadview North\",\"Broadview North\",\"Brookhaven-Amesbury\",\"Brookhaven-Amesbury\",\"Brookhaven-Amesbury\",\"Brookhaven-Amesbury\",\"Cabbagetown-South St.James Town\",\"Cabbagetown-South St.James Town\",\"Cabbagetown-South St.James Town\",\"Cabbagetown-South St.James Town\",\"Caledonia-Fairbank\",\"Caledonia-Fairbank\",\"Caledonia-Fairbank\",\"Caledonia-Fairbank\",\"Casa Loma\",\"Casa Loma\",\"Casa Loma\",\"Casa Loma\",\"Centennial Scarborough\",\"Centennial Scarborough\",\"Centennial Scarborough\",\"Centennial Scarborough\",\"Church-Yonge Corridor\",\"Church-Yonge Corridor\",\"Church-Yonge Corridor\",\"Church-Yonge Corridor\",\"Clairlea-Birchmount\",\"Clairlea-Birchmount\",\"Clairlea-Birchmount\",\"Clairlea-Birchmount\",\"Clanton Park\",\"Clanton Park\",\"Clanton Park\",\"Clanton Park\",\"Cliffcrest\",\"Cliffcrest\",\"Cliffcrest\",\"Cliffcrest\",\"Corso Italia-Davenport\",\"Corso Italia-Davenport\",\"Corso Italia-Davenport\",\"Corso Italia-Davenport\",\"Danforth\",\"Danforth\",\"Danforth\",\"Danforth\",\"Danforth-East York\",\"Danforth-East York\",\"Danforth-East York\",\"Danforth-East York\",\"Don Valley Village\",\"Don Valley Village\",\"Don Valley Village\",\"Don Valley Village\",\"Dorset Park\",\"Dorset Park\",\"Dorset Park\",\"Dorset Park\",\"Dovercourt-Wallace Emerson-Juncti\",\"Dovercourt-Wallace Emerson-Juncti\",\"Dovercourt-Wallace Emerson-Juncti\",\"Dovercourt-Wallace Emerson-Juncti\",\"Downsview-Roding-CFB\",\"Downsview-Roding-CFB\",\"Downsview-Roding-CFB\",\"Downsview-Roding-CFB\",\"Dufferin Grove\",\"Dufferin Grove\",\"Dufferin Grove\",\"Dufferin Grove\",\"East End-Danforth\",\"East End-Danforth\",\"East End-Danforth\",\"East End-Danforth\",\"Edenbridge-Humber Valley\",\"Edenbridge-Humber Valley\",\"Edenbridge-Humber Valley\",\"Edenbridge-Humber Valley\",\"Eglinton East\",\"Eglinton East\",\"Eglinton East\",\"Eglinton East\",\"Elms-Old Rexdale\",\"Elms-Old Rexdale\",\"Elms-Old Rexdale\",\"Elms-Old Rexdale\",\"Englemount-Lawrence\",\"Englemount-Lawrence\",\"Englemount-Lawrence\",\"Englemount-Lawrence\",\"Eringate-Centennial-West Deane\",\"Eringate-Centennial-West Deane\",\"Eringate-Centennial-West Deane\",\"Eringate-Centennial-West Deane\",\"Etobicoke West Mall\",\"Etobicoke West Mall\",\"Etobicoke West Mall\",\"Etobicoke West Mall\",\"Flemingdon Park\",\"Flemingdon Park\",\"Flemingdon Park\",\"Flemingdon Park\",\"Forest Hill North\",\"Forest Hill North\",\"Forest Hill North\",\"Forest Hill North\",\"Forest Hill South\",\"Forest Hill South\",\"Forest Hill South\",\"Forest Hill South\",\"Glenfield-Jane Heights\",\"Glenfield-Jane Heights\",\"Glenfield-Jane Heights\",\"Glenfield-Jane Heights\",\"Greenwood-Coxwell\",\"Greenwood-Coxwell\",\"Greenwood-Coxwell\",\"Greenwood-Coxwell\",\"Guildwood\",\"Guildwood\",\"Guildwood\",\"Guildwood\",\"Henry Farm\",\"Henry Farm\",\"Henry Farm\",\"Henry Farm\",\"High Park North\",\"High Park North\",\"High Park North\",\"High Park North\",\"High Park-Swansea\",\"High Park-Swansea\",\"High Park-Swansea\",\"High Park-Swansea\",\"Highland Creek\",\"Highland Creek\",\"Highland Creek\",\"Highland Creek\",\"Hillcrest Village\",\"Hillcrest Village\",\"Hillcrest Village\",\"Hillcrest Village\",\"Humber Heights-Westmount\",\"Humber Heights-Westmount\",\"Humber Heights-Westmount\",\"Humber Heights-Westmount\",\"Humber Summit\",\"Humber Summit\",\"Humber Summit\",\"Humber Summit\",\"Humbermede\",\"Humbermede\",\"Humbermede\",\"Humbermede\",\"Humewood-Cedarvale\",\"Humewood-Cedarvale\",\"Humewood-Cedarvale\",\"Humewood-Cedarvale\",\"Ionview\",\"Ionview\",\"Ionview\",\"Ionview\",\"Islington-City Centre West\",\"Islington-City Centre West\",\"Islington-City Centre West\",\"Islington-City Centre West\",\"Junction Area\",\"Junction Area\",\"Junction Area\",\"Junction Area\",\"Keelesdale-Eglinton West\",\"Keelesdale-Eglinton West\",\"Keelesdale-Eglinton West\",\"Keelesdale-Eglinton West\",\"Kennedy Park\",\"Kennedy Park\",\"Kennedy Park\",\"Kennedy Park\",\"Kensington-Chinatown\",\"Kensington-Chinatown\",\"Kensington-Chinatown\",\"Kensington-Chinatown\",\"Kingsview Village-The Westway\",\"Kingsview Village-The Westway\",\"Kingsview Village-The Westway\",\"Kingsview Village-The Westway\",\"Kingsway South\",\"Kingsway South\",\"Kingsway South\",\"Kingsway South\",\"L'Amoreaux\",\"L'Amoreaux\",\"L'Amoreaux\",\"L'Amoreaux\",\"Lambton Baby Point\",\"Lambton Baby Point\",\"Lambton Baby Point\",\"Lambton Baby Point\",\"Lansing-Westgate\",\"Lansing-Westgate\",\"Lansing-Westgate\",\"Lansing-Westgate\",\"Lawrence Park North\",\"Lawrence Park North\",\"Lawrence Park North\",\"Lawrence Park North\",\"Lawrence Park South\",\"Lawrence Park South\",\"Lawrence Park South\",\"Lawrence Park South\",\"Leaside-Bennington\",\"Leaside-Bennington\",\"Leaside-Bennington\",\"Leaside-Bennington\",\"Little Portugal\",\"Little Portugal\",\"Little Portugal\",\"Little Portugal\",\"Long Branch\",\"Long Branch\",\"Long Branch\",\"Long Branch\",\"Malvern\",\"Malvern\",\"Malvern\",\"Malvern\",\"Maple Leaf\",\"Maple Leaf\",\"Maple Leaf\",\"Maple Leaf\",\"Markland Wood\",\"Markland Wood\",\"Markland Wood\",\"Markland Wood\",\"Milliken\",\"Milliken\",\"Milliken\",\"Milliken\",\"Mimico\",\"Mimico\",\"Mimico\",\"Mimico\",\"Morningside\",\"Morningside\",\"Morningside\",\"Morningside\",\"Moss Park\",\"Moss Park\",\"Moss Park\",\"Moss Park\",\"Mount Dennis\",\"Mount Dennis\",\"Mount Dennis\",\"Mount Dennis\",\"Mount Olive-Silverstone-Jamestown\",\"Mount Olive-Silverstone-Jamestown\",\"Mount Olive-Silverstone-Jamestown\",\"Mount Olive-Silverstone-Jamestown\",\"Mount Pleasant East\",\"Mount Pleasant East\",\"Mount Pleasant East\",\"Mount Pleasant East\",\"Mount Pleasant West\",\"Mount Pleasant West\",\"Mount Pleasant West\",\"Mount Pleasant West\",\"New Toronto\",\"New Toronto\",\"New Toronto\",\"New Toronto\",\"Newtonbrook East\",\"Newtonbrook East\",\"Newtonbrook East\",\"Newtonbrook East\",\"Newtonbrook West\",\"Newtonbrook West\",\"Newtonbrook West\",\"Newtonbrook West\",\"Niagara\",\"Niagara\",\"Niagara\",\"Niagara\",\"North Riverdale\",\"North Riverdale\",\"North Riverdale\",\"North Riverdale\",\"North St.James Town\",\"North St.James Town\",\"North St.James Town\",\"North St.James Town\",\"O'Connor-Parkview\",\"O'Connor-Parkview\",\"O'Connor-Parkview\",\"O'Connor-Parkview\",\"Oakridge\",\"Oakridge\",\"Oakridge\",\"Oakridge\",\"Oakwood Village\",\"Oakwood Village\",\"Oakwood Village\",\"Oakwood Village\",\"Old East York\",\"Old East York\",\"Old East York\",\"Old East York\",\"Palmerston-Little Italy\",\"Palmerston-Little Italy\",\"Palmerston-Little Italy\",\"Palmerston-Little Italy\",\"Parkwoods-Donalda\",\"Parkwoods-Donalda\",\"Parkwoods-Donalda\",\"Parkwoods-Donalda\",\"Pelmo Park-Humberlea\",\"Pelmo Park-Humberlea\",\"Pelmo Park-Humberlea\",\"Pelmo Park-Humberlea\",\"Playter Estates-Danforth\",\"Playter Estates-Danforth\",\"Playter Estates-Danforth\",\"Playter Estates-Danforth\",\"Pleasant View\",\"Pleasant View\",\"Pleasant View\",\"Pleasant View\",\"Princess-Rosethorn\",\"Princess-Rosethorn\",\"Princess-Rosethorn\",\"Princess-Rosethorn\",\"Regent Park\",\"Regent Park\",\"Regent Park\",\"Regent Park\",\"Rexdale-Kipling\",\"Rexdale-Kipling\",\"Rexdale-Kipling\",\"Rexdale-Kipling\",\"Rockcliffe-Smythe\",\"Rockcliffe-Smythe\",\"Rockcliffe-Smythe\",\"Rockcliffe-Smythe\",\"Roncesvalles\",\"Roncesvalles\",\"Roncesvalles\",\"Roncesvalles\",\"Rosedale-Moore Park\",\"Rosedale-Moore Park\",\"Rosedale-Moore Park\",\"Rosedale-Moore Park\",\"Rouge\",\"Rouge\",\"Rouge\",\"Rouge\",\"Runnymede-Bloor West Village\",\"Runnymede-Bloor West Village\",\"Runnymede-Bloor West Village\",\"Runnymede-Bloor West Village\",\"Rustic\",\"Rustic\",\"Rustic\",\"Rustic\",\"Scarborough Village\",\"Scarborough Village\",\"Scarborough Village\",\"Scarborough Village\",\"South Parkdale\",\"South Parkdale\",\"South Parkdale\",\"South Parkdale\",\"South Riverdale\",\"South Riverdale\",\"South Riverdale\",\"South Riverdale\",\"St.Andrew-Windfields\",\"St.Andrew-Windfields\",\"St.Andrew-Windfields\",\"St.Andrew-Windfields\",\"Steeles\",\"Steeles\",\"Steeles\",\"Steeles\",\"Stonegate-Queensway\",\"Stonegate-Queensway\",\"Stonegate-Queensway\",\"Stonegate-Queensway\",\"Tam O'Shanter-Sullivan\",\"Tam O'Shanter-Sullivan\",\"Tam O'Shanter-Sullivan\",\"Tam O'Shanter-Sullivan\",\"Taylor-Massey\",\"Taylor-Massey\",\"Taylor-Massey\",\"Taylor-Massey\",\"The Beaches\",\"The Beaches\",\"The Beaches\",\"The Beaches\",\"Thistletown-Beaumond Heights\",\"Thistletown-Beaumond Heights\",\"Thistletown-Beaumond Heights\",\"Thistletown-Beaumond Heights\",\"Thorncliffe Park\",\"Thorncliffe Park\",\"Thorncliffe Park\",\"Thorncliffe Park\",\"Trinity-Bellwoods\",\"Trinity-Bellwoods\",\"Trinity-Bellwoods\",\"Trinity-Bellwoods\",\"University\",\"University\",\"University\",\"University\",\"Victoria Village\",\"Victoria Village\",\"Victoria Village\",\"Victoria Village\",\"Waterfront Communities-The Island\",\"Waterfront Communities-The Island\",\"Waterfront Communities-The Island\",\"Waterfront Communities-The Island\",\"West Hill\",\"West Hill\",\"West Hill\",\"West Hill\",\"West Humber-Clairville\",\"West Humber-Clairville\",\"West Humber-Clairville\",\"West Humber-Clairville\",\"Westminster-Branson\",\"Westminster-Branson\",\"Westminster-Branson\",\"Westminster-Branson\",\"Weston\",\"Weston\",\"Weston\",\"Weston\",\"Weston-Pellam Park\",\"Weston-Pellam Park\",\"Weston-Pellam Park\",\"Weston-Pellam Park\",\"Wexford/Maryvale\",\"Wexford/Maryvale\",\"Wexford/Maryvale\",\"Wexford/Maryvale\",\"Willowdale East\",\"Willowdale East\",\"Willowdale East\",\"Willowdale East\",\"Willowdale West\",\"Willowdale West\",\"Willowdale West\",\"Willowdale West\",\"Willowridge-Martingrove-Richview\",\"Willowridge-Martingrove-Richview\",\"Willowridge-Martingrove-Richview\",\"Willowridge-Martingrove-Richview\",\"Woburn\",\"Woburn\",\"Woburn\",\"Woburn\",\"Woodbine Corridor\",\"Woodbine Corridor\",\"Woodbine Corridor\",\"Woodbine Corridor\",\"Woodbine-Lumsden\",\"Woodbine-Lumsden\",\"Woodbine-Lumsden\",\"Woodbine-Lumsden\",\"Wychwood\",\"Wychwood\",\"Wychwood\",\"Wychwood\",\"Yonge-Eglinton\",\"Yonge-Eglinton\",\"Yonge-Eglinton\",\"Yonge-Eglinton\",\"Yonge-St.Clair\",\"Yonge-St.Clair\",\"Yonge-St.Clair\",\"Yonge-St.Clair\",\"York University Heights\",\"York University Heights\",\"York University Heights\",\"York University Heights\",\"Yorkdale-Glen Park\",\"Yorkdale-Glen Park\",\"Yorkdale-Glen Park\",\"Yorkdale-Glen Park\"]},\"selected\":{\"id\":\"3414\"},\"selection_policy\":{\"id\":\"3436\"}},\"id\":\"3413\",\"type\":\"ColumnDataSource\"},{\"attributes\":{},\"id\":\"3397\",\"type\":\"BasicTicker\"},{\"attributes\":{\"data_source\":{\"id\":\"3413\"},\"glyph\":{\"id\":\"3416\"},\"hover_glyph\":null,\"muted_glyph\":{\"id\":\"3418\"},\"nonselection_glyph\":{\"id\":\"3417\"},\"selection_glyph\":{\"id\":\"3421\"},\"view\":{\"id\":\"3420\"}},\"id\":\"3419\",\"type\":\"GlyphRenderer\"},{\"attributes\":{\"fill_color\":{\"value\":\"#30a2da\"},\"top\":{\"field\":\"average_house_value\"},\"width\":{\"value\":0.8},\"x\":{\"field\":\"neighbourhood\"}},\"id\":\"3416\",\"type\":\"VBar\"},{\"attributes\":{\"axis\":{\"id\":\"3393\"},\"grid_line_color\":null,\"ticker\":null},\"id\":\"3395\",\"type\":\"Grid\"},{\"attributes\":{\"fill_alpha\":{\"value\":0.2},\"fill_color\":{\"value\":\"#30a2da\"},\"line_alpha\":{\"value\":0.2},\"top\":{\"field\":\"average_house_value\"},\"width\":{\"value\":0.8},\"x\":{\"field\":\"neighbourhood\"}},\"id\":\"3418\",\"type\":\"VBar\"},{\"attributes\":{},\"id\":\"3427\",\"type\":\"AllLabels\"},{\"attributes\":{},\"id\":\"3414\",\"type\":\"Selection\"},{\"attributes\":{},\"id\":\"3402\",\"type\":\"WheelZoomTool\"},{\"attributes\":{\"fill_alpha\":{\"value\":0.1},\"fill_color\":{\"value\":\"#30a2da\"},\"line_alpha\":{\"value\":0.1},\"top\":{\"field\":\"average_house_value\"},\"width\":{\"value\":0.8},\"x\":{\"field\":\"neighbourhood\"}},\"id\":\"3417\",\"type\":\"VBar\"},{\"attributes\":{\"bottom\":{\"value\":0},\"fill_alpha\":{\"value\":1.0},\"fill_color\":{\"value\":\"#30a2da\"},\"hatch_alpha\":{\"value\":1.0},\"hatch_color\":{\"value\":\"black\"},\"hatch_scale\":{\"value\":12.0},\"hatch_weight\":{\"value\":1.0},\"line_alpha\":{\"value\":1.0},\"line_cap\":{\"value\":\"butt\"},\"line_color\":{\"value\":\"black\"},\"line_dash\":{\"value\":[]},\"line_dash_offset\":{\"value\":0},\"line_join\":{\"value\":\"bevel\"},\"line_width\":{\"value\":1},\"top\":{\"field\":\"average_house_value\"},\"width\":{\"value\":0.8},\"x\":{\"field\":\"neighbourhood\"}},\"id\":\"3421\",\"type\":\"VBar\"},{\"attributes\":{},\"id\":\"3425\",\"type\":\"BasicTickFormatter\"},{\"attributes\":{\"children\":[{\"id\":\"3380\"},{\"id\":\"3384\"},{\"id\":\"3448\"}],\"margin\":[0,0,0,0],\"name\":\"Row10171\",\"tags\":[\"embedded\"]},\"id\":\"3379\",\"type\":\"Row\"},{\"attributes\":{\"factors\":[\"Agincourt North\",\"Agincourt South-Malvern West\",\"Alderwood\",\"Annex\",\"Banbury-Don Mills\",\"Bathurst Manor\",\"Bay Street Corridor\",\"Bayview Village\",\"Bayview Woods-Steeles\",\"Bedford Park-Nortown\",\"Beechborough-Greenbrook\",\"Bendale\",\"Birchcliffe-Cliffside\",\"Black Creek\",\"Blake-Jones\",\"Briar Hill-Belgravia\",\"Bridle Path-Sunnybrook-York Mills\",\"Broadview North\",\"Brookhaven-Amesbury\",\"Cabbagetown-South St.James Town\",\"Caledonia-Fairbank\",\"Casa Loma\",\"Centennial Scarborough\",\"Church-Yonge Corridor\",\"Clairlea-Birchmount\",\"Clanton Park\",\"Cliffcrest\",\"Corso Italia-Davenport\",\"Danforth\",\"Danforth-East York\",\"Don Valley Village\",\"Dorset Park\",\"Dovercourt-Wallace Emerson-Juncti\",\"Downsview-Roding-CFB\",\"Dufferin Grove\",\"East End-Danforth\",\"Edenbridge-Humber Valley\",\"Eglinton East\",\"Elms-Old Rexdale\",\"Englemount-Lawrence\",\"Eringate-Centennial-West Deane\",\"Etobicoke West Mall\",\"Flemingdon Park\",\"Forest Hill North\",\"Forest Hill South\",\"Glenfield-Jane Heights\",\"Greenwood-Coxwell\",\"Guildwood\",\"Henry Farm\",\"High Park North\",\"High Park-Swansea\",\"Highland Creek\",\"Hillcrest Village\",\"Humber Heights-Westmount\",\"Humber Summit\",\"Humbermede\",\"Humewood-Cedarvale\",\"Ionview\",\"Islington-City Centre West\",\"Junction Area\",\"Keelesdale-Eglinton West\",\"Kennedy Park\",\"Kensington-Chinatown\",\"Kingsview Village-The Westway\",\"Kingsway South\",\"L'Amoreaux\",\"Lambton Baby Point\",\"Lansing-Westgate\",\"Lawrence Park North\",\"Lawrence Park South\",\"Leaside-Bennington\",\"Little Portugal\",\"Long Branch\",\"Malvern\",\"Maple Leaf\",\"Markland Wood\",\"Milliken\",\"Mimico\",\"Morningside\",\"Moss Park\",\"Mount Dennis\",\"Mount Olive-Silverstone-Jamestown\",\"Mount Pleasant East\",\"Mount Pleasant West\",\"New Toronto\",\"Newtonbrook East\",\"Newtonbrook West\",\"Niagara\",\"North Riverdale\",\"North St.James Town\",\"O'Connor-Parkview\",\"Oakridge\",\"Oakwood Village\",\"Old East York\",\"Palmerston-Little Italy\",\"Parkwoods-Donalda\",\"Pelmo Park-Humberlea\",\"Playter Estates-Danforth\",\"Pleasant View\",\"Princess-Rosethorn\",\"Regent Park\",\"Rexdale-Kipling\",\"Rockcliffe-Smythe\",\"Roncesvalles\",\"Rosedale-Moore Park\",\"Rouge\",\"Runnymede-Bloor West Village\",\"Rustic\",\"Scarborough Village\",\"South Parkdale\",\"South Riverdale\",\"St.Andrew-Windfields\",\"Steeles\",\"Stonegate-Queensway\",\"Tam O'Shanter-Sullivan\",\"Taylor-Massey\",\"The Beaches\",\"Thistletown-Beaumond Heights\",\"Thorncliffe Park\",\"Trinity-Bellwoods\",\"University\",\"Victoria Village\",\"Waterfront Communities-The Island\",\"West Hill\",\"West Humber-Clairville\",\"Westminster-Branson\",\"Weston\",\"Weston-Pellam Park\",\"Wexford/Maryvale\",\"Willowdale East\",\"Willowdale West\",\"Willowridge-Martingrove-Richview\",\"Woburn\",\"Woodbine Corridor\",\"Woodbine-Lumsden\",\"Wychwood\",\"Yonge-Eglinton\",\"Yonge-St.Clair\",\"York University Heights\",\"Yorkdale-Glen Park\"],\"tags\":[[[\"neighbourhood\",\"neighbourhood\",null]]]},\"id\":\"3381\",\"type\":\"FactorRange\"},{\"attributes\":{\"source\":{\"id\":\"3413\"}},\"id\":\"3420\",\"type\":\"CDSView\"},{\"attributes\":{},\"id\":\"3394\",\"type\":\"CategoricalTicker\"},{\"attributes\":{\"overlay\":{\"id\":\"3405\"}},\"id\":\"3403\",\"type\":\"BoxZoomTool\"},{\"attributes\":{\"end\":2324492.8,\"reset_end\":2324492.8,\"reset_start\":0.0,\"tags\":[[[\"average_house_value\",\"average_house_value\",null]]]},\"id\":\"3382\",\"type\":\"Range1d\"},{\"attributes\":{},\"id\":\"3422\",\"type\":\"AllLabels\"},{\"attributes\":{},\"id\":\"3404\",\"type\":\"ResetTool\"},{\"attributes\":{},\"id\":\"3400\",\"type\":\"SaveTool\"},{\"attributes\":{\"active_multi\":null,\"tools\":[{\"id\":\"3383\"},{\"id\":\"3400\"},{\"id\":\"3401\"},{\"id\":\"3402\"},{\"id\":\"3403\"},{\"id\":\"3404\"}]},\"id\":\"3406\",\"type\":\"Toolbar\"},{\"attributes\":{\"axis_label\":\"neighbourhood\",\"formatter\":{\"id\":\"3423\"},\"major_label_orientation\":1.5707963267948966,\"major_label_policy\":{\"id\":\"3422\"},\"ticker\":{\"id\":\"3394\"}},\"id\":\"3393\",\"type\":\"CategoricalAxis\"},{\"attributes\":{},\"id\":\"3423\",\"type\":\"CategoricalTickFormatter\"},{\"attributes\":{},\"id\":\"3401\",\"type\":\"PanTool\"},{\"attributes\":{},\"id\":\"3391\",\"type\":\"LinearScale\"},{\"attributes\":{\"bottom_units\":\"screen\",\"fill_alpha\":0.5,\"fill_color\":\"lightgrey\",\"left_units\":\"screen\",\"level\":\"overlay\",\"line_alpha\":1.0,\"line_color\":\"black\",\"line_dash\":[4,4],\"line_width\":2,\"right_units\":\"screen\",\"syncable\":false,\"top_units\":\"screen\"},\"id\":\"3405\",\"type\":\"BoxAnnotation\"},{\"attributes\":{\"axis\":{\"id\":\"3396\"},\"dimension\":1,\"grid_line_color\":null,\"ticker\":null},\"id\":\"3399\",\"type\":\"Grid\"},{\"attributes\":{\"below\":[{\"id\":\"3393\"}],\"center\":[{\"id\":\"3395\"},{\"id\":\"3399\"}],\"height\":500,\"left\":[{\"id\":\"3396\"}],\"margin\":[5,5,5,5],\"min_border_bottom\":10,\"min_border_left\":10,\"min_border_right\":10,\"min_border_top\":10,\"renderers\":[{\"id\":\"3419\"}],\"sizing_mode\":\"fixed\",\"title\":{\"id\":\"3385\"},\"toolbar\":{\"id\":\"3406\"},\"width\":700,\"x_range\":{\"id\":\"3381\"},\"x_scale\":{\"id\":\"3389\"},\"y_range\":{\"id\":\"3382\"},\"y_scale\":{\"id\":\"3391\"}},\"id\":\"3384\",\"subtype\":\"Figure\",\"type\":\"Plot\"},{\"attributes\":{\"callback\":null,\"renderers\":[{\"id\":\"3419\"}],\"tags\":[\"hv_created\"],\"tooltips\":[[\"neighbourhood\",\"@{neighbourhood}\"],[\"average_house_value\",\"@{average_house_value}\"]]},\"id\":\"3383\",\"type\":\"HoverTool\"},{\"attributes\":{\"margin\":[5,5,5,5],\"name\":\"HSpacer10176\",\"sizing_mode\":\"stretch_width\"},\"id\":\"3448\",\"type\":\"Spacer\"}],\"root_ids\":[\"3379\"]},\"title\":\"Bokeh Application\",\"version\":\"2.3.2\"}};\n",
       "    var render_items = [{\"docid\":\"6815de0f-88b7-437d-acb1-7cab69cb1414\",\"root_ids\":[\"3379\"],\"roots\":{\"3379\":\"cfbf3658-0f6b-4737-b12e-64e4a52d76d8\"}}];\n",
       "    root.Bokeh.embed.embed_items_notebook(docs_json, render_items);\n",
       "  }\n",
       "  if (root.Bokeh !== undefined && root.Bokeh.Panel !== undefined && root['Plotly'] !== undefined ) {\n",
       "    embed_document(root);\n",
       "  } else {\n",
       "    var attempts = 0;\n",
       "    var timer = setInterval(function(root) {\n",
       "      if (root.Bokeh !== undefined && root.Bokeh.Panel !== undefined && root['Plotly'] !== undefined) {\n",
       "        clearInterval(timer);\n",
       "        embed_document(root);\n",
       "      } else if (document.readyState == \"complete\") {\n",
       "        attempts++;\n",
       "        if (attempts > 100) {\n",
       "          clearInterval(timer);\n",
       "          console.log(\"Bokeh: ERROR: Unable to run BokehJS code because BokehJS library is missing\");\n",
       "        }\n",
       "      }\n",
       "    }, 10, root)\n",
       "  }\n",
       "})(window);</script>"
      ],
      "text/plain": [
       ":Bars   [neighbourhood]   (average_house_value)"
      ]
     },
     "execution_count": 152,
     "metadata": {
      "application/vnd.holoviews_exec.v0+json": {
       "id": "3379"
      }
     },
     "output_type": "execute_result"
    }
   ],
   "source": [
    "top_ten.hvplot.bar(x='neighbourhood', y='average_house_value', rot=90, height=500, title='Top 10 most expensive neighbourhood in Toronto')"
   ]
  },
  {
   "cell_type": "code",
   "execution_count": null,
   "id": "e680ed3b-ef83-428a-8563-65b4c9975892",
   "metadata": {},
   "outputs": [],
   "source": []
  }
 ],
 "metadata": {
  "kernelspec": {
   "display_name": "Python 3",
   "language": "python",
   "name": "python3"
  },
  "language_info": {
   "codemirror_mode": {
    "name": "ipython",
    "version": 3
   },
   "file_extension": ".py",
   "mimetype": "text/x-python",
   "name": "python",
   "nbconvert_exporter": "python",
   "pygments_lexer": "ipython3",
   "version": "3.8.5"
  }
 },
 "nbformat": 4,
 "nbformat_minor": 5
}
